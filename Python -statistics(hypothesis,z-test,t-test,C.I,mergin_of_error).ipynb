{
 "cells": [
  {
   "cell_type": "markdown",
   "id": "f2c36fc6",
   "metadata": {},
   "source": [
    "# import essential library."
   ]
  },
  {
   "cell_type": "code",
   "execution_count": 1,
   "id": "dd6997d2",
   "metadata": {},
   "outputs": [],
   "source": [
    "import numpy as np\n",
    "from statistics import mode"
   ]
  },
  {
   "cell_type": "markdown",
   "id": "8e84c8f7",
   "metadata": {},
   "source": [
    "# Random number generation."
   ]
  },
  {
   "cell_type": "code",
   "execution_count": 2,
   "id": "c603ce6d",
   "metadata": {},
   "outputs": [],
   "source": [
    "population=np.random.randint(10,50,50)"
   ]
  },
  {
   "cell_type": "code",
   "execution_count": 3,
   "id": "14596351",
   "metadata": {},
   "outputs": [
    {
     "data": {
      "text/plain": [
       "array([48, 17, 47, 10, 42, 25, 42, 24, 24, 40, 39, 18, 29, 33, 44, 33, 49,\n",
       "       30, 19, 47, 21, 34, 45, 24, 33, 32, 12, 24, 25, 24, 19, 46, 28, 25,\n",
       "       48, 11, 11, 26, 35, 29, 43, 40, 46, 25, 30, 27, 45, 49, 17, 21])"
      ]
     },
     "execution_count": 3,
     "metadata": {},
     "output_type": "execute_result"
    }
   ],
   "source": [
    "population"
   ]
  },
  {
   "cell_type": "markdown",
   "id": "352606c7",
   "metadata": {},
   "source": [
    "# Calculation mean , median & mode."
   ]
  },
  {
   "cell_type": "code",
   "execution_count": 4,
   "id": "a3aeeb82",
   "metadata": {},
   "outputs": [
    {
     "data": {
      "text/plain": [
       "31.1"
      ]
     },
     "execution_count": 4,
     "metadata": {},
     "output_type": "execute_result"
    }
   ],
   "source": [
    "np.mean(population)"
   ]
  },
  {
   "cell_type": "code",
   "execution_count": 5,
   "id": "2328f758",
   "metadata": {},
   "outputs": [
    {
     "data": {
      "text/plain": [
       "29.5"
      ]
     },
     "execution_count": 5,
     "metadata": {},
     "output_type": "execute_result"
    }
   ],
   "source": [
    "np.median(population)"
   ]
  },
  {
   "cell_type": "code",
   "execution_count": 6,
   "id": "3d19ad53",
   "metadata": {},
   "outputs": [
    {
     "data": {
      "text/plain": [
       "24"
      ]
     },
     "execution_count": 6,
     "metadata": {},
     "output_type": "execute_result"
    }
   ],
   "source": [
    "mode(population)"
   ]
  },
  {
   "cell_type": "code",
   "execution_count": 8,
   "id": "0678bee1",
   "metadata": {},
   "outputs": [
    {
     "name": "stdout",
     "output_type": "stream",
     "text": [
      "mean of the population:-31.1\n",
      "median of the population:-29.5\n",
      "mode of the population:-24\n"
     ]
    }
   ],
   "source": [
    "print(f\"mean of the population:-{np.mean(population)}\")\n",
    "print(f\"median of the population:-{np.median(population)}\")\n",
    "print(f\"mode of the population:-{mode(population)}\")"
   ]
  },
  {
   "cell_type": "markdown",
   "id": "e829f45e",
   "metadata": {},
   "source": [
    "# Random sample choice from the population."
   ]
  },
  {
   "cell_type": "code",
   "execution_count": 10,
   "id": "3760e9b6",
   "metadata": {},
   "outputs": [],
   "source": [
    "sample=np.random.choice(population,20)"
   ]
  },
  {
   "cell_type": "code",
   "execution_count": 11,
   "id": "1209ffc9",
   "metadata": {},
   "outputs": [
    {
     "data": {
      "text/plain": [
       "array([17, 42, 29, 11, 45, 28, 29, 11, 24, 11, 25, 27, 27, 21, 44, 11, 39,\n",
       "       18, 48, 19])"
      ]
     },
     "execution_count": 11,
     "metadata": {},
     "output_type": "execute_result"
    }
   ],
   "source": [
    "sample"
   ]
  },
  {
   "cell_type": "markdown",
   "id": "58fb83cb",
   "metadata": {},
   "source": [
    "# Simillarly we calculate sample mean,median & mode. "
   ]
  },
  {
   "cell_type": "code",
   "execution_count": 12,
   "id": "66d140e6",
   "metadata": {},
   "outputs": [
    {
     "name": "stdout",
     "output_type": "stream",
     "text": [
      "mean of the sample:-26.3\n",
      "median of the sample:-26.0\n",
      "mode of the sample:-11\n"
     ]
    }
   ],
   "source": [
    "print(f\"mean of the sample:-{np.mean(sample)}\")\n",
    "print(f\"median of the sample:-{np.median(sample)}\")\n",
    "print(f\"mode of the sample:-{mode(sample)}\")"
   ]
  },
  {
   "cell_type": "code",
   "execution_count": 13,
   "id": "7ecfdab7",
   "metadata": {},
   "outputs": [],
   "source": [
    "sample1=np.random.choice(population,20)\n",
    "sample2=np.random.choice(population,20)\n",
    "sample3=np.random.choice(population,20)\n",
    "sample4=np.random.choice(population,20)"
   ]
  },
  {
   "cell_type": "code",
   "execution_count": 15,
   "id": "893eec24",
   "metadata": {},
   "outputs": [
    {
     "name": "stdout",
     "output_type": "stream",
     "text": [
      "[43 25 17 21 24 19 25 10 49 19 40 49 29 30 24 32 49 24 42 30]\n",
      "============================================================\n",
      "[19 49 47 25 39 29 34 18 45 32 33 26 24 25 27 17 42 33 33 21]\n",
      "============================================================\n",
      "[33 24 17 25 28 21 47 19 19 21 25 39 42 42 24 43 39 10 30 25]\n",
      "============================================================\n",
      "[17 33 26 35 27 12 33 25 47 47 18 25 24 42 25 19 45 25 49 12]\n"
     ]
    }
   ],
   "source": [
    "print(sample1)\n",
    "print(60*\"=\")\n",
    "print(sample2)\n",
    "print(60*\"=\")\n",
    "print(sample3)\n",
    "print(60*\"=\")\n",
    "print(sample4)"
   ]
  },
  {
   "cell_type": "markdown",
   "id": "f66f3787",
   "metadata": {},
   "source": [
    "# Mean of all the samples."
   ]
  },
  {
   "cell_type": "code",
   "execution_count": 17,
   "id": "039e84d7",
   "metadata": {},
   "outputs": [],
   "source": [
    "mean_of_samples=[]\n",
    "all_sample=[sample1,sample2,sample3,sample4]\n",
    "for sample in all_sample:\n",
    "    mean_of_samples.append(np.mean(sample))"
   ]
  },
  {
   "cell_type": "code",
   "execution_count": 18,
   "id": "73eb1a06",
   "metadata": {},
   "outputs": [
    {
     "data": {
      "text/plain": [
       "[30.05, 30.9, 28.65, 29.3]"
      ]
     },
     "execution_count": 18,
     "metadata": {},
     "output_type": "execute_result"
    }
   ],
   "source": [
    "mean_of_samples"
   ]
  },
  {
   "cell_type": "markdown",
   "id": "ab226b28",
   "metadata": {},
   "source": [
    "# Central limit theorem."
   ]
  },
  {
   "cell_type": "code",
   "execution_count": 20,
   "id": "056bcd11",
   "metadata": {},
   "outputs": [],
   "source": [
    "population1=np.random.binomial(10,0.5,10000)"
   ]
  },
  {
   "cell_type": "code",
   "execution_count": 21,
   "id": "d43882e5",
   "metadata": {},
   "outputs": [
    {
     "data": {
      "text/plain": [
       "array([3, 9, 6, ..., 6, 6, 6])"
      ]
     },
     "execution_count": 21,
     "metadata": {},
     "output_type": "execute_result"
    }
   ],
   "source": [
    "population1"
   ]
  },
  {
   "cell_type": "code",
   "execution_count": 22,
   "id": "de4270a9",
   "metadata": {},
   "outputs": [
    {
     "data": {
      "text/plain": [
       "10000"
      ]
     },
     "execution_count": 22,
     "metadata": {},
     "output_type": "execute_result"
    }
   ],
   "source": [
    "len(population1)"
   ]
  },
  {
   "cell_type": "markdown",
   "id": "cbbf6456",
   "metadata": {},
   "source": [
    "# We take 30% sample from the population1."
   ]
  },
  {
   "cell_type": "code",
   "execution_count": 24,
   "id": "7a7fe644",
   "metadata": {},
   "outputs": [
    {
     "data": {
      "text/plain": [
       "3000.0"
      ]
     },
     "execution_count": 24,
     "metadata": {},
     "output_type": "execute_result"
    }
   ],
   "source": [
    "len(population1)*0.30"
   ]
  },
  {
   "cell_type": "code",
   "execution_count": 25,
   "id": "9aa6eeb4",
   "metadata": {},
   "outputs": [],
   "source": [
    "size=int(len(population1)*0.30)"
   ]
  },
  {
   "cell_type": "code",
   "execution_count": 23,
   "id": "399ff839",
   "metadata": {},
   "outputs": [
    {
     "name": "stderr",
     "output_type": "stream",
     "text": [
      "C:\\Users\\SHYAMSUNDAR KARMAKAR\\AppData\\Local\\Temp\\ipykernel_1752\\294474584.py:2: UserWarning: \n",
      "\n",
      "`distplot` is a deprecated function and will be removed in seaborn v0.14.0.\n",
      "\n",
      "Please adapt your code to use either `displot` (a figure-level function with\n",
      "similar flexibility) or `histplot` (an axes-level function for histograms).\n",
      "\n",
      "For a guide to updating your code to use the new functions, please see\n",
      "https://gist.github.com/mwaskom/de44147ed2974457ad6372750bbe5751\n",
      "\n",
      "  sns.distplot(population1)\n"
     ]
    },
    {
     "data": {
      "text/plain": [
       "<AxesSubplot:ylabel='Density'>"
      ]
     },
     "execution_count": 23,
     "metadata": {},
     "output_type": "execute_result"
    },
    {
     "data": {
      "image/png": "[encoded data removed]",
      "text/plain": [
       "<Figure size 640x480 with 1 Axes>"
      ]
     },
     "metadata": {},
     "output_type": "display_data"
    }
   ],
   "source": [
    "import seaborn as sns\n",
    "sns.distplot(population1)"
   ]
  },
  {
   "cell_type": "code",
   "execution_count": 27,
   "id": "c559f583",
   "metadata": {},
   "outputs": [
    {
     "name": "stdout",
     "output_type": "stream",
     "text": [
      "[6 6 5 ... 9 5 6]\n",
      "[3 4 6 ... 5 6 6]\n",
      "[5 8 3 ... 3 4 3]\n",
      "[7 5 5 ... 5 4 6]\n",
      "[6 4 3 ... 6 3 4]\n",
      "[10  5  4 ...  3  5  4]\n",
      "[5 3 6 ... 6 4 3]\n",
      "[3 4 6 ... 4 4 6]\n",
      "[7 4 6 ... 4 6 3]\n",
      "[5 2 3 ... 5 6 4]\n",
      "[7 5 1 ... 8 2 6]\n",
      "[6 4 5 ... 2 8 3]\n",
      "[5 5 6 ... 5 6 7]\n",
      "[ 1  5 10 ...  5  2  3]\n",
      "[5 8 4 ... 3 6 4]\n",
      "[4 5 7 ... 4 5 4]\n",
      "[3 6 8 ... 4 5 4]\n",
      "[4 3 7 ... 6 5 4]\n",
      "[6 8 6 ... 5 5 7]\n",
      "[6 4 8 ... 3 5 7]\n",
      "[7 6 3 ... 4 5 3]\n",
      "[5 8 3 ... 8 4 6]\n",
      "[3 4 4 ... 3 6 7]\n",
      "[8 5 7 ... 1 6 4]\n",
      "[5 3 3 ... 4 8 4]\n",
      "[5 6 6 ... 5 3 5]\n",
      "[6 7 5 ... 4 6 5]\n",
      "[3 5 9 ... 6 7 6]\n",
      "[6 1 4 ... 4 6 4]\n",
      "[6 6 4 ... 3 4 7]\n"
     ]
    }
   ],
   "source": [
    "sample_mean=[]\n",
    "for i in range(1,31):\n",
    "    print(np.random.choice(population1,size=size))"
   ]
  },
  {
   "cell_type": "code",
   "execution_count": 28,
   "id": "124e34b5",
   "metadata": {},
   "outputs": [],
   "source": [
    "sample_mean=[]\n",
    "for i in range(1,31):\n",
    "    sample=np.random.choice(population1,size=size)\n",
    "    sample_mean.append(np.mean(sample))"
   ]
  },
  {
   "cell_type": "code",
   "execution_count": 29,
   "id": "7cb8d472",
   "metadata": {},
   "outputs": [
    {
     "data": {
      "text/plain": [
       "[4.988,\n",
       " 5.008333333333334,\n",
       " 4.991333333333333,\n",
       " 4.932333333333333,\n",
       " 4.982666666666667,\n",
       " 5.016666666666667,\n",
       " 4.988666666666667,\n",
       " 5.070333333333333,\n",
       " 5.026,\n",
       " 4.9783333333333335,\n",
       " 5.011,\n",
       " 4.973333333333334,\n",
       " 4.994,\n",
       " 4.988333333333333,\n",
       " 5.016666666666667,\n",
       " 4.964333333333333,\n",
       " 5.014,\n",
       " 5.0136666666666665,\n",
       " 5.018,\n",
       " 5.006,\n",
       " 5.019333333333333,\n",
       " 5.019,\n",
       " 5.012333333333333,\n",
       " 5.019333333333333,\n",
       " 5.042,\n",
       " 4.947,\n",
       " 4.957666666666666,\n",
       " 4.975333333333333,\n",
       " 4.977333333333333,\n",
       " 5.017666666666667]"
      ]
     },
     "execution_count": 29,
     "metadata": {},
     "output_type": "execute_result"
    }
   ],
   "source": [
    "sample_mean"
   ]
  },
  {
   "cell_type": "code",
   "execution_count": 32,
   "id": "ed28fb7d",
   "metadata": {},
   "outputs": [
    {
     "data": {
      "text/plain": [
       "<seaborn.axisgrid.FacetGrid at 0x218bea05ac0>"
      ]
     },
     "execution_count": 32,
     "metadata": {},
     "output_type": "execute_result"
    },
    {
     "data": {
      "image/png": "[encoded data removed]",
      "text/plain": [
       "<Figure size 500x500 with 1 Axes>"
      ]
     },
     "metadata": {},
     "output_type": "display_data"
    }
   ],
   "source": [
    "sns.displot(sample_mean,kde=True)"
   ]
  },
  {
   "cell_type": "markdown",
   "id": "ba19a10d",
   "metadata": {},
   "source": [
    "# We take more sample size from the population1."
   ]
  },
  {
   "cell_type": "code",
   "execution_count": 33,
   "id": "4cd61654",
   "metadata": {},
   "outputs": [],
   "source": [
    "sample_mean=[]\n",
    "for i in range(1,500):\n",
    "    sample=np.random.choice(population1,size=size)\n",
    "    sample_mean.append(np.mean(sample))"
   ]
  },
  {
   "cell_type": "code",
   "execution_count": 35,
   "id": "0dcb964b",
   "metadata": {},
   "outputs": [
    {
     "name": "stderr",
     "output_type": "stream",
     "text": [
      "C:\\Users\\SHYAMSUNDAR KARMAKAR\\AppData\\Local\\Temp\\ipykernel_1752\\3541630073.py:1: UserWarning: \n",
      "\n",
      "`distplot` is a deprecated function and will be removed in seaborn v0.14.0.\n",
      "\n",
      "Please adapt your code to use either `displot` (a figure-level function with\n",
      "similar flexibility) or `histplot` (an axes-level function for histograms).\n",
      "\n",
      "For a guide to updating your code to use the new functions, please see\n",
      "https://gist.github.com/mwaskom/de44147ed2974457ad6372750bbe5751\n",
      "\n",
      "  sns.distplot(sample_mean,kde=True)\n"
     ]
    },
    {
     "data": {
      "text/plain": [
       "<AxesSubplot:ylabel='Density'>"
      ]
     },
     "execution_count": 35,
     "metadata": {},
     "output_type": "execute_result"
    },
    {
     "data": {
      "image/png": "[encoded data removed]",
      "text/plain": [
       "<Figure size 640x480 with 1 Axes>"
      ]
     },
     "metadata": {},
     "output_type": "display_data"
    }
   ],
   "source": [
    "sns.distplot(sample_mean,kde=True)"
   ]
  },
  {
   "cell_type": "code",
   "execution_count": 36,
   "id": "8794d476",
   "metadata": {},
   "outputs": [],
   "source": [
    "sample_mean=[]\n",
    "for i in range(1,1000):\n",
    "    sample=np.random.choice(population1,size=size)\n",
    "    sample_mean.append(np.mean(sample))"
   ]
  },
  {
   "cell_type": "code",
   "execution_count": 38,
   "id": "31a55af8",
   "metadata": {},
   "outputs": [
    {
     "data": {
      "text/plain": [
       "<seaborn.axisgrid.FacetGrid at 0x218bf365190>"
      ]
     },
     "execution_count": 38,
     "metadata": {},
     "output_type": "execute_result"
    },
    {
     "data": {
      "image/png": "[encoded data removed]",
      "text/plain": [
       "<Figure size 500x500 with 1 Axes>"
      ]
     },
     "metadata": {},
     "output_type": "display_data"
    }
   ],
   "source": [
    "sns.displot(sample_mean,kde=True)"
   ]
  },
  {
   "cell_type": "code",
   "execution_count": 39,
   "id": "01e73c36",
   "metadata": {},
   "outputs": [
    {
     "data": {
      "text/plain": [
       "4.999056056056056"
      ]
     },
     "execution_count": 39,
     "metadata": {},
     "output_type": "execute_result"
    }
   ],
   "source": [
    "np.mean(sample_mean)"
   ]
  },
  {
   "cell_type": "markdown",
   "id": "45c28be3",
   "metadata": {},
   "source": [
    "## Confidence Interval & Mergin Error."
   ]
  },
  {
   "cell_type": "code",
   "execution_count": 40,
   "id": "f328d859",
   "metadata": {},
   "outputs": [],
   "source": [
    "import scipy.stats as stats"
   ]
  },
  {
   "cell_type": "code",
   "execution_count": 41,
   "id": "2bbfc174",
   "metadata": {},
   "outputs": [
    {
     "data": {
      "text/plain": [
       "1.6448536269514722"
      ]
     },
     "execution_count": 41,
     "metadata": {},
     "output_type": "execute_result"
    }
   ],
   "source": [
    "stats.norm.ppf(q=0.95) #ppf:- probablity density function"
   ]
  },
  {
   "cell_type": "code",
   "execution_count": 42,
   "id": "a8609a0d",
   "metadata": {},
   "outputs": [
    {
     "data": {
      "text/plain": [
       "2.3263478740408408"
      ]
     },
     "execution_count": 42,
     "metadata": {},
     "output_type": "execute_result"
    }
   ],
   "source": [
    "stats.norm.ppf(q=0.99)"
   ]
  },
  {
   "cell_type": "code",
   "execution_count": 43,
   "id": "5484615a",
   "metadata": {},
   "outputs": [],
   "source": [
    "z_critical=stats.norm.ppf(q=0.95)\n"
   ]
  },
  {
   "cell_type": "code",
   "execution_count": 44,
   "id": "350af053",
   "metadata": {},
   "outputs": [],
   "source": [
    "t_critical=stats.t.ppf(q=0.95,df=24)"
   ]
  },
  {
   "cell_type": "code",
   "execution_count": 49,
   "id": "bdb0b461",
   "metadata": {},
   "outputs": [],
   "source": [
    "margin_of_error=z_critical*(np.std(mean_of_samples)/np.sqrt(20))"
   ]
  },
  {
   "cell_type": "code",
   "execution_count": 50,
   "id": "d033689a",
   "metadata": {},
   "outputs": [
    {
     "data": {
      "text/plain": [
       "0.3089578530961849"
      ]
     },
     "execution_count": 50,
     "metadata": {},
     "output_type": "execute_result"
    }
   ],
   "source": [
    "margin_of_error"
   ]
  },
  {
   "cell_type": "code",
   "execution_count": 54,
   "id": "112b3875",
   "metadata": {},
   "outputs": [
    {
     "data": {
      "text/plain": [
       "29.416042146903813"
      ]
     },
     "execution_count": 54,
     "metadata": {},
     "output_type": "execute_result"
    }
   ],
   "source": [
    "np.mean(mean_of_samples)-margin_of_error"
   ]
  },
  {
   "cell_type": "code",
   "execution_count": 52,
   "id": "f753c27e",
   "metadata": {},
   "outputs": [
    {
     "data": {
      "text/plain": [
       "30.033957853096183"
      ]
     },
     "execution_count": 52,
     "metadata": {},
     "output_type": "execute_result"
    }
   ],
   "source": [
    "np.mean(mean_of_samples)+margin_of_error"
   ]
  },
  {
   "cell_type": "markdown",
   "id": "b8c301b1",
   "metadata": {},
   "source": [
    "## Z-test"
   ]
  },
  {
   "cell_type": "code",
   "execution_count": 59,
   "id": "10620ca7",
   "metadata": {},
   "outputs": [],
   "source": [
    "from numpy.random import randn\n",
    "population=randn(50)"
   ]
  },
  {
   "cell_type": "code",
   "execution_count": 60,
   "id": "9d570ffb",
   "metadata": {},
   "outputs": [
    {
     "data": {
      "text/plain": [
       "array([-0.79047665, -0.86576379,  1.89632437, -1.6687523 ,  1.37827   ,\n",
       "       -0.76027738,  0.72692363, -0.4219937 ,  0.45419488, -0.39705971,\n",
       "       -0.31557936,  0.36811893, -1.76886687, -0.23950873, -0.0269418 ,\n",
       "       -0.48305557, -0.51167301, -1.15951962,  1.0775832 , -0.34157004,\n",
       "       -1.36120237,  0.65453393, -0.96026998, -1.38862727, -0.47909317,\n",
       "       -0.66207003, -0.04860485,  0.62517822, -1.27180334,  0.50259992,\n",
       "        0.19732444,  0.13405752, -0.62741436, -0.32410049,  0.75402184,\n",
       "       -0.08702072, -0.4909851 , -1.42644271,  0.18936336, -0.51550826,\n",
       "       -0.47321968, -1.28150759, -0.54906428,  0.28686218, -0.63014019,\n",
       "        0.51436432,  1.60474373,  1.24881851, -0.57224419, -1.0732676 ])"
      ]
     },
     "execution_count": 60,
     "metadata": {},
     "output_type": "execute_result"
    }
   ],
   "source": [
    "population"
   ]
  },
  {
   "cell_type": "code",
   "execution_count": 61,
   "id": "f77685e0",
   "metadata": {},
   "outputs": [
    {
     "name": "stderr",
     "output_type": "stream",
     "text": [
      "C:\\Users\\SHYAMSUNDAR KARMAKAR\\AppData\\Local\\Temp\\ipykernel_1752\\2958836585.py:1: UserWarning: \n",
      "\n",
      "`distplot` is a deprecated function and will be removed in seaborn v0.14.0.\n",
      "\n",
      "Please adapt your code to use either `displot` (a figure-level function with\n",
      "similar flexibility) or `histplot` (an axes-level function for histograms).\n",
      "\n",
      "For a guide to updating your code to use the new functions, please see\n",
      "https://gist.github.com/mwaskom/de44147ed2974457ad6372750bbe5751\n",
      "\n",
      "  sns.distplot(population)\n"
     ]
    },
    {
     "data": {
      "text/plain": [
       "<AxesSubplot:ylabel='Density'>"
      ]
     },
     "execution_count": 61,
     "metadata": {},
     "output_type": "execute_result"
    },
    {
     "data": {
      "image/png": "[encoded data removed]",
      "text/plain": [
       "<Figure size 640x480 with 1 Axes>"
      ]
     },
     "metadata": {},
     "output_type": "display_data"
    }
   ],
   "source": [
    "sns.distplot(population)"
   ]
  },
  {
   "cell_type": "code",
   "execution_count": 62,
   "id": "92ba2545",
   "metadata": {},
   "outputs": [
    {
     "name": "stdout",
     "output_type": "stream",
     "text": [
      "here is mean of the population:-0.22720683403625086,here is the std:0.8433198632501085\n"
     ]
    }
   ],
   "source": [
    "print(f\"here is mean of the population:{np.mean(population)},here is the std:{np.std(population)}\")"
   ]
  },
  {
   "cell_type": "code",
   "execution_count": 65,
   "id": "d1d1deed",
   "metadata": {},
   "outputs": [],
   "source": [
    "null_mean=0.022"
   ]
  },
  {
   "cell_type": "code",
   "execution_count": 70,
   "id": "119c6956",
   "metadata": {},
   "outputs": [
    {
     "ename": "SyntaxError",
     "evalue": "invalid syntax (2461524305.py, line 1)",
     "output_type": "error",
     "traceback": [
      "\u001b[1;36m  Cell \u001b[1;32mIn[70], line 1\u001b[1;36m\u001b[0m\n\u001b[1;33m    c.I=95%\u001b[0m\n\u001b[1;37m           ^\u001b[0m\n\u001b[1;31mSyntaxError\u001b[0m\u001b[1;31m:\u001b[0m invalid syntax\n"
     ]
    }
   ],
   "source": [
    "c.I=95%\n",
    "alpha=1-c.I=0.05(5%)\n"
   ]
  },
  {
   "cell_type": "code",
   "execution_count": 71,
   "id": "c2db42c2",
   "metadata": {},
   "outputs": [],
   "source": [
    "#P_value=0.05\n",
    "alpha=0.05"
   ]
  },
  {
   "cell_type": "markdown",
   "id": "3b2b1ea9",
   "metadata": {},
   "source": [
    "## P<=0.05:reject the null hypothesis.\n",
    "## p>0.05:accept the null hypothesis."
   ]
  },
  {
   "cell_type": "code",
   "execution_count": 72,
   "id": "249ba630",
   "metadata": {},
   "outputs": [],
   "source": [
    "from statsmodels.stats.weightstats import ztest\n",
    "z_scores,P_value=ztest(population,value=null_mean,alternative='larger')"
   ]
  },
  {
   "cell_type": "code",
   "execution_count": 75,
   "id": "ca552efa",
   "metadata": {},
   "outputs": [
    {
     "data": {
      "text/plain": [
       "0.9807057514061172"
      ]
     },
     "execution_count": 75,
     "metadata": {},
     "output_type": "execute_result"
    }
   ],
   "source": [
    "P_value"
   ]
  },
  {
   "cell_type": "code",
   "execution_count": 73,
   "id": "adc5edab",
   "metadata": {},
   "outputs": [
    {
     "name": "stdout",
     "output_type": "stream",
     "text": [
      "accept the null hypothesis\n"
     ]
    }
   ],
   "source": [
    "if(p_value<alpha):\n",
    "    print(\"reject the null hypothesis\")\n",
    "else:\n",
    "    print(\"accept the null hypothesis\")"
   ]
  },
  {
   "cell_type": "code",
   "execution_count": null,
   "id": "37fbc2a9",
   "metadata": {},
   "outputs": [],
   "source": []
  }
 ],
 "metadata": {
  "kernelspec": {
   "display_name": "Python 3 (ipykernel)",
   "language": "python",
   "name": "python3"
  },
  "language_info": {
   "codemirror_mode": {
    "name": "ipython",
    "version": 3
   },
   "file_extension": ".py",
   "mimetype": "text/x-python",
   "name": "python",
   "nbconvert_exporter": "python",
   "pygments_lexer": "ipython3",
   "version": "3.9.13"
  }
 },
 "nbformat": 4,
 "nbformat_minor": 5
}
